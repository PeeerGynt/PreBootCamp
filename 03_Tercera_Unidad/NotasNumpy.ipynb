{
 "cells": [
  {
   "cell_type": "markdown",
   "metadata": {},
   "source": [
    "# Notas Tercer Seccion - Numpy\n",
    "Elaboradas por Diego Chavez"
   ]
  },
  {
   "cell_type": "markdown",
   "metadata": {},
   "source": [
    "## Numpy Array vs. Listas"
   ]
  },
  {
   "cell_type": "markdown",
   "metadata": {},
   "source": [
    "## 1. Indexacion\n",
    "Este concepto se refiere a acceder a un elemento de un array dando la posicion mediante un ENTERO, asi:"
   ]
  },
  {
   "cell_type": "code",
   "execution_count": null,
   "metadata": {},
   "outputs": [
    {
     "name": "stdout",
     "output_type": "stream",
     "text": [
      "[ 1  2  3  4  5  6  7  8  9 10]\n",
      "-----\n",
      "1 10\n",
      "-----\n",
      "[1 2 3 4 5 6]\n",
      "-----\n",
      "[1 3 5 7 9]\n",
      "-----\n",
      "[1 8]\n"
     ]
    },
    {
     "data": {
      "text/plain": [
       "numpy.ndarray"
      ]
     },
     "execution_count": 10,
     "metadata": {},
     "output_type": "execute_result"
    }
   ],
   "source": [
    "import numpy\n",
    "\n",
    "a = numpy.arange(1,11,1) #crea un arreglo con numeros del 1 al 10 de 1-1\n",
    "print(a)\n",
    "\n",
    "print('-----')\n",
    "print(a[0], a[-1])\n",
    "print('-----')\n",
    "print(a[0:-4]) # equivalente a a[0:6]\n",
    "print('-----')\n",
    "print(a[0:9:2]) # De dos en dos, creando pasos de avance\n",
    "print('-----')\n",
    "print(a[[0,7]]) # Sobre Indexacion genera un array \n",
    "type(a[[0,7]])\n",
    "\n",
    "\n"
   ]
  },
  {
   "cell_type": "markdown",
   "metadata": {},
   "source": [
    "## 2. Modificaciones"
   ]
  },
  {
   "cell_type": "code",
   "execution_count": null,
   "metadata": {},
   "outputs": [
    {
     "name": "stdout",
     "output_type": "stream",
     "text": [
      "[0 1 2 3 4]\n",
      "-----\n",
      "[8 0 1 2 3 8 4]\n",
      "-----\n",
      "[ 8  0  1  2  3  8  4 -3  2]\n",
      "-----\n",
      "[ 0  1  2  3  8  4 -3  2]\n"
     ]
    }
   ],
   "source": [
    "import numpy as np\n",
    "a = np.arange(5)\n",
    "print(a)\n",
    "\n",
    "print(\"-----\")\n",
    "a = np.insert(a, (0,-1),8) # Inserta en el objeto a y en las posiciones 0 y -1, el numero 8\n",
    "print(a)\n",
    "\n",
    "print(\"-----\")\n",
    "a = np.append(a, [-3,2]) # Inserta en el objeto a en la ultima posicion, los valores -3 y 2\n",
    "print(a)\n",
    "\n",
    "print(\"-----\")\n",
    "a = np.delete(a, [0]) # Borra en el objeto a el valor que esta en la posicion 0\n",
    "print(a)\n",
    "\n"
   ]
  },
  {
   "cell_type": "markdown",
   "metadata": {},
   "source": [
    "## 3. Flatten y Ravel"
   ]
  },
  {
   "cell_type": "code",
   "execution_count": 24,
   "metadata": {},
   "outputs": [
    {
     "name": "stdout",
     "output_type": "stream",
     "text": [
      "[0 1 2 3 4 5]\n",
      "-----\n",
      "[[0 1]\n",
      " [2 3]\n",
      " [4 5]]\n",
      "-----\n",
      "[[[0 1]]\n",
      "\n",
      " [[2 3]]\n",
      "\n",
      " [[4 5]]]\n",
      "-----\n",
      "[[0]\n",
      " [1]\n",
      " [2]\n",
      " [3]\n",
      " [4]\n",
      " [5]]\n",
      "-----\n",
      "[0 1 2 3 4 5]\n"
     ]
    }
   ],
   "source": [
    "import numpy as np\n",
    "\n",
    "a = np.arange(6)\n",
    "print(a)\n",
    "\n",
    "print(\"-----\")\n",
    "a = a.reshape(3,2)\n",
    "print(a)\n",
    "\n",
    "print(\"-----\")\n",
    "a = a.reshape(3,1,2)\n",
    "print(a)\n",
    "\n",
    "print(\"-----\")\n",
    "a = a.reshape(6,1)\n",
    "print(a)\n",
    "\n",
    "\n",
    "print(\"-----\")\n",
    "a = a.flatten()\n",
    "print(a)"
   ]
  },
  {
   "cell_type": "markdown",
   "metadata": {},
   "source": [
    "## 4. Concatenate"
   ]
  },
  {
   "cell_type": "code",
   "execution_count": null,
   "metadata": {},
   "outputs": [
    {
     "name": "stdout",
     "output_type": "stream",
     "text": [
      "[[1 2]\n",
      " [3 4]]\n",
      "[[1 2]\n",
      " [3 4]]\n",
      "-----\n",
      "(2, 2)\n",
      "(2, 2)\n",
      "-----\n",
      "[[5 6]]\n",
      "-----\n",
      "(1, 2)\n",
      "-----\n",
      "[[1 2]\n",
      " [3 4]\n",
      " [5 6]]\n",
      "-----\n",
      "(3, 2)\n",
      "-----\n",
      "[[1 2 5]\n",
      " [3 4 6]]\n",
      "-----\n",
      "(2, 3)\n"
     ]
    }
   ],
   "source": [
    "a = np.array([[1,2],[3,4]])\n",
    "b = np.arange(1,5).reshape(2,2)\n",
    "print(a) \n",
    "print(b)\n",
    "\n",
    "print(\"-----\")\n",
    "print(a.shape)\n",
    "print(b.shape)\n",
    "\n",
    "print(\"-----\")\n",
    "c = np.array([[5,6]]) # Matriz con 1 fila y 2 columnas\n",
    "print(c)\n",
    "\n",
    "print(\"-----\")\n",
    "print(c.shape)\n",
    "\n",
    "\n",
    "# CONCATENADO POR FILAS\n",
    "print(\"-----\")\n",
    "x=np.concatenate((a,c), axis=0) # Concatena las matrices a y c, donde c queda como fila en a, obteniendo una matriz de 3x2: 0 = Filas\n",
    "print(x)\n",
    "\n",
    "print(\"-----\")\n",
    "print(x.shape)\n",
    "\n",
    "# CONCATENADO POR COLUMNAS\n",
    "print(\"-----\")\n",
    "y=np.concatenate((a,c.T), axis=1) # Cantidad de Filas de A, debe ser igual a cantidad de filas de C, por eso hago la traspuesta \n",
    "print(y)\n",
    "\n",
    "print(\"-----\")\n",
    "print(y.shape)"
   ]
  },
  {
   "cell_type": "markdown",
   "metadata": {},
   "source": []
  }
 ],
 "metadata": {
  "kernelspec": {
   "display_name": "base",
   "language": "python",
   "name": "python3"
  },
  "language_info": {
   "codemirror_mode": {
    "name": "ipython",
    "version": 3
   },
   "file_extension": ".py",
   "mimetype": "text/x-python",
   "name": "python",
   "nbconvert_exporter": "python",
   "pygments_lexer": "ipython3",
   "version": "3.9.12"
  }
 },
 "nbformat": 4,
 "nbformat_minor": 2
}
